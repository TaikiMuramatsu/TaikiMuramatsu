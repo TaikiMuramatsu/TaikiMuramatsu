{
 "cells": [
  {
   "cell_type": "code",
   "execution_count": 95,
   "metadata": {},
   "outputs": [],
   "source": [
    "from selenium import webdriver\n",
    "import chromedriver_binary\n",
    "from selenium.webdriver.common.keys import Keys as keys\n",
    "import time\n",
    "import pandas as pd\n",
    "import numpy as np\n",
    "import matplotlib.pyplot as plt\n",
    "import re\n",
    "import datetime\n",
    "from datetime import date,timedelta\n",
    "\n",
    "def url_Time(url,year,month,day):\n",
    "    now_date = date(year,month,day)\n",
    "    old_date = now_date-timedelta(days=8030)\n",
    "    URL_0 = url.split('from=')[0]\n",
    "    URL_1 = url.split('from=')[1]\n",
    "    URL_1_1 = URL_1.split('&to=')[1]\n",
    "    URL_1_2 = URL_1_1.split('&time')[1]\n",
    "    URL = URL_0+'from='+str(old_date)+'&to='+str(now_date)+'&time'+URL_1_2\n",
    "    return URL\n",
    "\n",
    "URL = url_Time('https://finance.yahoo.co.jp/quote/4661.T/history?from=20201105&to=20211105&timeFrame=d&page=1',2021,11,10)\n",
    "URL_1 = re.sub('-','',URL)\n",
    "\n",
    "\n",
    "browser = webdriver.Chrome()\n",
    "browser.get(URL_1)\n",
    "\n",
    "j = 0\n",
    "i = 0\n",
    "Data_list = []\n",
    "while i < 245:\n",
    "    tag_ = browser.find_elements_by_class_name(\"_2ZqX1qip\")\n",
    "    tag_len = len(tag_)\n",
    "    for j in range(tag_len):\n",
    "        tag_text = tag_[j].text\n",
    "        tag_Data = tag_text.split('\\n')\n",
    "        Data_list.append(tag_Data)\n",
    "        j += 1\n",
    "    name_ = browser.find_element_by_tag_name(\"thead\")\n",
    "    name_Data = name_.text.split(' ')\n",
    "    df_ = pd.DataFrame(data=Data_list,columns=name_Data)\n",
    "    next_ = browser.find_elements_by_class_name(\"cVr3KGRY\")\n",
    "    next_[1].click()\n",
    "    i += 1\n",
    "    time.sleep(1)\n",
    "    \n",
    "df_list_start = []\n",
    "df_list_max = []\n",
    "df_list_mine = []\n",
    "df_list_end = []\n",
    "df_list_volume = []\n",
    "df_list_change = []\n",
    "df_list_day = []\n",
    "i = 0\n",
    "for i in range(len(df_2)):\n",
    "    try:\n",
    "        df_day = (df_.loc[i]['日付'])\n",
    "        df_start = (df_.loc[i]['始値'])\n",
    "        df_max = (df_.loc[i]['高値'])\n",
    "        df_mine = (df_.loc[i]['安値'])\n",
    "        df_end = (df_.loc[i]['終値'])\n",
    "        df_volume = (df_.loc[i]['出来高'])\n",
    "        df_start_1 = re.sub(',','',df_start)\n",
    "        df_max_1 = re.sub(',','',df_max)\n",
    "        df_mine_1 = re.sub(',','',df_mine)\n",
    "        df_end_1= re.sub(',','',df_end)\n",
    "        df_volume_1 = re.sub(',','',df_volume)\n",
    "    except TypeError:\n",
    "        continue\n",
    "    finally:\n",
    "        df_list_start.append(df_start_1)\n",
    "        df_list_max.append(df_max_1)\n",
    "        df_list_mine.append(df_mine_1)\n",
    "        df_list_end.append(df_end_1)\n",
    "        df_list_volume.append(df_volume_1)\n",
    "        df_list_day.append(df_day)\n",
    "        df_2 = pd.DataFrame(data = df_list_day,columns=['日付'])\n",
    "        df_2['始値'] = df_list_start\n",
    "        df_2['高値'] = df_list_max\n",
    "        df_2['安値'] = df_list_mine\n",
    "        df_2['終値'] = df_list_end\n",
    "        df_2['出来高'] = df_list_volume\n",
    "        \n",
    "b_list = []\n",
    "for i in range(1,len(df_2)):\n",
    "    a = df_list_end[i]\n",
    "    b = df_list_end[i-1]\n",
    "    z = (int(b)-int(a))*1/100\n",
    "    b_list.append(z)\n",
    "    if i == (len(df_2)-1):\n",
    "        mean = sum(b_list)/len(b_list)\n",
    "        Mean = round(mean,2)\n",
    "        b_list.append(Mean)\n",
    "        df_2['変化率'] = b_list"
   ]
  },
  {
   "cell_type": "code",
   "execution_count": 175,
   "metadata": {},
   "outputs": [],
   "source": [
    "df_2 = df_2.drop(1616,axis=0)"
   ]
  },
  {
   "cell_type": "code",
   "execution_count": 101,
   "metadata": {},
   "outputs": [],
   "source": [
    "df_2['出来高'] = df_2['出来高'].astype(np.int)"
   ]
  },
  {
   "cell_type": "code",
   "execution_count": 106,
   "metadata": {},
   "outputs": [],
   "source": [
    "df_2['高値'] = df_2['高値'].astype(np.int)"
   ]
  },
  {
   "cell_type": "code",
   "execution_count": 107,
   "metadata": {},
   "outputs": [],
   "source": [
    "df_2['安値'] = df_2['安値'].astype(np.int)"
   ]
  },
  {
   "cell_type": "code",
   "execution_count": 108,
   "metadata": {},
   "outputs": [],
   "source": [
    "df_2['終値'] = df_2['終値'].astype(np.int)"
   ]
  },
  {
   "cell_type": "code",
   "execution_count": 176,
   "metadata": {},
   "outputs": [],
   "source": [
    "df_2['始値'] = df_2['始値'].astype(np.int)"
   ]
  },
  {
   "cell_type": "code",
   "execution_count": 181,
   "metadata": {},
   "outputs": [],
   "source": [
    "#単回帰分析による予測\n",
    "#中心化\n",
    "df_2_c = df_2 - df_2.mean()\n",
    "#入力変数=x目的変数=y\n",
    "x = df_2_c['始値']\n",
    "y = df_2_c['終値']\n",
    "#評価関数a\n",
    "xx = x*x\n",
    "xy = x*y\n",
    "a = xy.sum()/xx.sum()\n",
    "#予測関数化\n",
    "def new_value(Value):\n",
    "    x_new = Value\n",
    "    mean = df_2.mean()\n",
    "    xc = x_new - mean['始値']\n",
    "    yc = a * xc\n",
    "    #予測値をy_hat\n",
    "    y_hat = yc + mean['終値']\n",
    "    return y_hat"
   ]
  },
  {
   "cell_type": "code",
   "execution_count": 186,
   "metadata": {},
   "outputs": [
    {
     "data": {
      "text/plain": [
       "18718.468166206265"
      ]
     },
     "execution_count": 186,
     "metadata": {},
     "output_type": "execute_result"
    }
   ],
   "source": [
    "new_value(18700)"
   ]
  }
 ],
 "metadata": {
  "kernelspec": {
   "display_name": "Python 3",
   "language": "python",
   "name": "python3"
  },
  "language_info": {
   "codemirror_mode": {
    "name": "ipython",
    "version": 3
   },
   "file_extension": ".py",
   "mimetype": "text/x-python",
   "name": "python",
   "nbconvert_exporter": "python",
   "pygments_lexer": "ipython3",
   "version": "3.8.5"
  }
 },
 "nbformat": 4,
 "nbformat_minor": 4
}
